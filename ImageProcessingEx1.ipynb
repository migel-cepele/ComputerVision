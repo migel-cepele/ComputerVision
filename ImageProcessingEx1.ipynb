{
  "nbformat": 4,
  "nbformat_minor": 0,
  "metadata": {
    "colab": {
      "provenance": [],
      "authorship_tag": "ABX9TyNgz2w87OmeN8dwYEIA4g5R",
      "include_colab_link": true
    },
    "kernelspec": {
      "name": "python3",
      "display_name": "Python 3"
    },
    "language_info": {
      "name": "python"
    }
  },
  "cells": [
    {
      "cell_type": "markdown",
      "metadata": {
        "id": "view-in-github",
        "colab_type": "text"
      },
      "source": [
        "<a href=\"https://colab.research.google.com/github/migel-cepele/ComputerVision/blob/main/ImageProcessingEx1.ipynb\" target=\"_parent\"><img src=\"https://colab.research.google.com/assets/colab-badge.svg\" alt=\"Open In Colab\"/></a>"
      ]
    },
    {
      "cell_type": "markdown",
      "source": [
        "# Exercise 1\n",
        "\n",
        "**Before starting:**\n",
        "\n",
        "- Create a GitHub repository to upload the solution of this exercise.\n",
        "- Share this GitHub link to your professor.\n",
        "\n",
        "**Objectives**\n",
        "\n",
        "Generate a single Python notebook implementing and answering the following questions:\n",
        "\n",
        "**- Task 1:** Load the built-in image 'coffee' of the skimage libraries. Details can be found at https://scikit-image.org/docs/stable/auto_examples/data/plot_general.html#sphx-glr-auto-examples-data-plot-general-py\n",
        "\n",
        "**- Task 2:** Use the skimage function random_noise to add each of the 7 different types of noise available and generate a 4x2 panel figure with the original image and the 7 corrupted versions. The noise types are:\n",
        "\n",
        "* ‘gaussian’ Gaussian-distributed additive noise.\n",
        "* ‘localvar’ Gaussian-distributed additive noise, with specified\n",
        "local variance at each point of image.\n",
        "* ‘poisson’ Poisson-distributed noise generated from the data.\n",
        "* ‘salt’ Replaces random pixels with 1.\n",
        "* ‘pepper’ Replaces random pixels with 0 (for unsigned images) or\n",
        "-1 (for signed images).\n",
        "* ‘s&p’ Replaces random pixels with either 1 or low_val, where\n",
        "low_val is 0 for unsigned images or -1 for signed images.\n",
        "* ‘speckle’ Multiplicative noise using out = image + n*image, where\n",
        "n is Gaussian noise with specified mean & variance.\n",
        "\n",
        "Documentation of the function can be found at\n",
        "https://scikit-image.org/docs/stable/api/skimage.util.html#skimage.util.random_noise\n",
        "\n",
        "**- Task 3:** Select one of the noise types and generate 3 noisy images with different noise intensity levels. Represent the original image along with them in a 2x2 figure.\n",
        "\n",
        "**- Task 4: **The standard deviation for Gaussian kernel affects the behavior of the gaussian filter (parameter sigma, see documentation https://scikit-image.org/docs/stable/api/skimage.filters.html#skimage.filters.gaussian). Explore the effect of the parameter sigma when applying a gaussian filter to the tree noisy images generated in the previus task. Represent and comment the results.\n",
        "\n",
        "**- Task 5:** Detect the edges of the bricks in the built-in image 'bricks' using a Prewitt edge detection filter. Quantify what is the fraction of the image corresponding to bricks and to edges.\n",
        "\n",
        "**- Task 6:** Apply a high-pass filter and a low-pass filter in the frequency domain to the skimage built-in image 'grass'. Represent the results and discuss the correspondance between spatial patterns in the original image and high/low frequency components of its the Fourier transform.\n",
        "\n",
        "**- Task 7:** Use the function binary_blobs to generate an image with random blobs: https://scikit-image.org/docs/stable/api/skimage.data.html#skimage.data.binary_blobs\n",
        "How many consecutive morphological erosions are needed in order to remove all the blobs? Use a disk-shaped structuring element of radius 3 pixels (footprint). https://scikit-image.org/docs/stable/api/skimage.morphology.html#skimage.morphology.disk\n"
      ],
      "metadata": {
        "id": "UmCgozH7zh0J"
      }
    },
    {
      "cell_type": "code",
      "execution_count": null,
      "metadata": {
        "id": "T_dt_BrEzcUk"
      },
      "outputs": [],
      "source": []
    }
  ]
}